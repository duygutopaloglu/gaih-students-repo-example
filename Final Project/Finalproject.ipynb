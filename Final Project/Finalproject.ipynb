{
 "cells": [
  {
   "cell_type": "code",
   "execution_count": null,
   "metadata": {},
   "outputs": [
    {
     "name": "stdout",
     "output_type": "stream",
     "text": [
      "Film-Sanat Bilgi yarışmasına hoşgeldiniz  :) \n",
      "Hazırsanız başlıyoruz.. \n",
      "Soru 1 Sinemamızın inek şabanı kimdir?   \n"
     ]
    }
   ],
   "source": [
    "#Final Projesi \n",
    "\"\"\"\n",
    " \n",
    "\"\"\"\n",
    "S = {\"Sinemamızın inek şabanı kimdir? \":\"Kemal Sunal\",\n",
    "     \"Kimi zaman bir masal analatıcısı, kimi zaman hafize annemiz? \":\"Adile Naşit\",\n",
    "     \"Meşhur turşu tartışması hangi filmdeydi peki :)\":\"Neşeli Günler\", \n",
    "     \"'Bak beyim sana iki çift lafım var' tiradını unutamadığımız kel Mahmudumuz kimdir?\":\"Münir Özkul\",\n",
    "     \"Babacan tavırları olan ve her ne hikmetse hep fabrikatör olan sanatçımız kimdir?\":\"Hulusi Kentmen\",\n",
    "     \"Seferoğulları - Tellioğulları ve yeşil vadi hangi filmdeydi?\":\"Tosun Paşa\",\n",
    "     \"Turist ömerimiz kimdir?\":\"Sadri Alışık\",\n",
    "     \"Türk sinemasının sultanı\":\"Türkan Şoray\",\n",
    "     \"Hababam sınıfının damat feriti yeterince güçlü bir ipucu olur bizce :) kimdir?\":\"Tarık Akan\",\n",
    "     \"Hababam sınıfının badi ekremi, efsane usta kimdir?\":\"Şener Şen\"}\n",
    "\n",
    "Puan = 0 \n",
    "i=1 \n",
    "\n",
    "print(\"Film-Sanat Bilgi yarışmasına hoşgeldiniz  :) \")\n",
    "print(\"Hazırsanız başlıyoruz.. \")\n",
    "\n",
    "for k,v in S.items():\n",
    "    print(\"Soru\",i,k,\" \")\n",
    "    i += 1\n",
    "    Y= input(\" \")\n",
    "    if Y.lower() == v.lower():\n",
    "        Puan += 10\n",
    "        print(\"\\n Doğru yanıt puanınız: \", Puan)\n",
    "    else:\n",
    "        print(\"\\n Yanlış yanıt puanınız: \", Puan)\n",
    "        print(\"\\n Sorunun doğru yanıtı \", v)\n",
    "    if i==5:\n",
    "        print(\"\\n Umarız her şey yolundadır, değerli ustalarımızı saygıyla anıyoruz :)\\n\")\n",
    "\n",
    "if Puan <=50:\n",
    "    print(\"\\n Toplam puanınız \", Puan,\" <= 50 olduğu için maalesef, başarısız oldunuz.\")\n",
    "else: \n",
    "    print(\"\\n Toplam puanınız \", Puan,\" > 50 olduğu için başarılı oldunuz. Tebrikler !!\")\n"
   ]
  },
  {
   "cell_type": "code",
   "execution_count": null,
   "metadata": {},
   "outputs": [],
   "source": []
  }
 ],
 "metadata": {
  "kernelspec": {
   "display_name": "Python 3",
   "language": "python",
   "name": "python3"
  },
  "language_info": {
   "codemirror_mode": {
    "name": "ipython",
    "version": 3
   },
   "file_extension": ".py",
   "mimetype": "text/x-python",
   "name": "python",
   "nbconvert_exporter": "python",
   "pygments_lexer": "ipython3",
   "version": "3.8.5"
  }
 },
 "nbformat": 4,
 "nbformat_minor": 4
}

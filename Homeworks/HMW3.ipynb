{
 "cells": [
  {
   "cell_type": "code",
   "execution_count": null,
   "metadata": {},
   "outputs": [],
   "source": [
    "# HMW3 \n",
    "\"\"\"\n",
    "- Öğrencilerin bilgileri bir sözlükte tutulmaktadır. \n",
    "- Sistemde var olan öğrenci sayısı kadar giriş yapılabilmektedir. \n",
    "- Sözlük yapısının sağlanması için her öğrencinin benzersiz bir numarası vardır. \n",
    "\"\"\"\n",
    "num = int(input(\"Lütfen toplam öğrenci sayısını giriniz: \"))\n",
    "\n",
    "bilgi={} #öğrencilerin bilgilerinin tutulacağı sözlük.\n",
    "bilgi1={} # Döngü içinde bilginin alınacağı sözlük\n",
    "\n",
    "#geçiş notunun hesaplanması için kullanılan fonksiyon, elde edilen sonuç v5 değişkeninde tutulur.\n",
    "def sonuc(v2,v3,v4):\n",
    "    sonuc = v2*0.3 + v3*0.3 + v4*0.4\n",
    "    return(sonuc)\n",
    "\n",
    "i=1\n",
    "while i <= num:\n",
    "    \n",
    "    k = int(input(\"Lütfen öğrenci numarasını giriniz: \")) # her öğrencinin benzersiz bir numarası olmalıdır. \n",
    "    kontrol = [key for key, value in bilgi.items()] #daha önce giriş yapılan öğrenci olup olmadığı kontrol edilir. \n",
    "    count = 1\n",
    "    while k in kontrol: \n",
    "        print(\"İlgili öğrenci için giriş yapıldı.\")\n",
    "        l = int(input(\"Lütfen öğrenci numarasını tekrar giriniz: \"))\n",
    "        count += count\n",
    "        if k!=l:\n",
    "            k=l\n",
    "            break\n",
    "        elif count >= 2 and k!=l:  #aynı numaranın girişi 2. kez yapılıyorsa sistem uyarı verir ama ilerler.\n",
    "            print(\"Daha önce giriş yapılan öğrenci bilgilerini değiştirmek üzeresiniz. \")\n",
    "            k = int(input(\"Lütfen öğrenci numarasını tekrar giriniz: \"))\n",
    "            i = i-1 #Eğer aynı öğrencinin bilgisi değişti ise öğrenci sayısının dengelenmesi gerekir. \n",
    "            break\n",
    "            \n",
    "    v1 = input(\"Lütfen öğrencinin adını-soyadını giriniz: \")\n",
    "    v2 = int(input(\"Lütfen öğrencinin vize puanını giriniz: \"))\n",
    "    v3 = int(input(\"Lütfen öğrencinin proje puanını giriniz: \"))\n",
    "    v4 = int(input(\"Lütfen öğrencinin final puanını giriniz: \")) \n",
    "    v5 = int(sonuc(v2,v3,v4))\n",
    "    \n",
    "    bilgi1 = {k:[v1,v2,v3,v4,v5]}\n",
    "    print(bilgi1)\n",
    "    bilgi.update(bilgi1)\n",
    "    i=i+1\n",
    "    \n",
    "sonuc=[] #Öğrecilerin isimlerinin ve geçiş notlarının tuple olarak tutulduğu liste. \n",
    "for j in bilgi.values():\n",
    "    sonuc = sonuc + [[j[0],j[4]]]\n",
    "    \n",
    "sonuc.sort(key=lambda x:x[1], reverse=True) #öğrencilerin aldıkları puanlar yüksekten düşüğe sıralanır. \n",
    "print(sonuc)  "
   ]
  },
  {
   "cell_type": "code",
   "execution_count": null,
   "metadata": {},
   "outputs": [],
   "source": []
  }
 ],
 "metadata": {
  "kernelspec": {
   "display_name": "Python 3",
   "language": "python",
   "name": "python3"
  },
  "language_info": {
   "codemirror_mode": {
    "name": "ipython",
    "version": 3
   },
   "file_extension": ".py",
   "mimetype": "text/x-python",
   "name": "python",
   "nbconvert_exporter": "python",
   "pygments_lexer": "ipython3",
   "version": "3.8.5"
  }
 },
 "nbformat": 4,
 "nbformat_minor": 4
}

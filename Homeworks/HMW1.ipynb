{
 "cells": [
  {
   "cell_type": "code",
   "execution_count": 1,
   "metadata": {
    "scrolled": true
   },
   "outputs": [
    {
     "name": "stdout",
     "output_type": "stream",
     "text": [
      "Lütfen bir sayı giriniz: 24\n",
      "[13, 14, 15, 16, 17, 18, 19, 20, 21, 22, 23, 0, 1, 2, 3, 4, 5, 6, 7, 8, 9, 10, 11]\n"
     ]
    }
   ],
   "source": [
    "#HMW1 \n",
    "# 1 Bir liste oluşturun, oluşturulan listenin ilk yarısı ile ikinci yarısını yer değiştirip yazdırın. \n",
    "\n",
    "liste= list(range(int(input(\"Lütfen bir sayı giriniz: \"))))\n",
    "print(liste[(int(len(liste)/2)+1):]+liste[:(int(len(liste)/2))])\n"
   ]
  },
  {
   "cell_type": "code",
   "execution_count": 7,
   "metadata": {},
   "outputs": [
    {
     "name": "stdout",
     "output_type": "stream",
     "text": [
      "1 10 aralığında bir tamsayı girin: 7\n",
      "[0, 2, 4, 6]\n"
     ]
    }
   ],
   "source": [
    "# 2 kullanıcıdan tek basamaklı bir tamsayı değeri(n) girmesini isteyin. \n",
    "# Sıfır ile n aralığında bulunan çift sayıları yazdırın. \n",
    "\n",
    "number = list(range(int(input(\"1 10 aralığında bir tamsayı girin: \"))+1))\n",
    "even_number = [i for i in number if i%2 == 0]\n",
    "print(even_number)"
   ]
  }
 ],
 "metadata": {
  "kernelspec": {
   "display_name": "Python 3",
   "language": "python",
   "name": "python3"
  },
  "language_info": {
   "codemirror_mode": {
    "name": "ipython",
    "version": 3
   },
   "file_extension": ".py",
   "mimetype": "text/x-python",
   "name": "python",
   "nbconvert_exporter": "python",
   "pygments_lexer": "ipython3",
   "version": "3.8.5"
  }
 },
 "nbformat": 4,
 "nbformat_minor": 4
}

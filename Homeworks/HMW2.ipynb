{
 "cells": [
  {
   "cell_type": "code",
   "execution_count": 4,
   "metadata": {},
   "outputs": [
    {
     "name": "stdout",
     "output_type": "stream",
     "text": [
      "Lütfen kullanıcı adınızı girinizDuygu\n",
      "Lütfen Parolanızı giriniz.balon\n",
      "Tebrikler, Başarıyla giriş yaptınız\n"
     ]
    }
   ],
   "source": [
    "#HMW2\n",
    "# Kullanıcı Girişi Uygulaması\n",
    "# Kullanıcıdan isim ve parola bilgisi verin. \n",
    "# Kullanıcıdan isim ve parola bilgisi girmesini talep edin, \n",
    "# Girilen yeni bilgi ile öncesinde girilen bilgiyi karşılaştırın giriş sonucunu kullanıcıya aktarın. \n",
    "\n",
    "kullanici_adi = \"Duygu\"\n",
    "parola =\"balon\"\n",
    "\n",
    "isim =input(\"Lütfen kullanıcı adınızı giriniz\")\n",
    "sifre= input(\"Lütfen Parolanızı giriniz.\")\n",
    "\n",
    "if (kullanici_adi != isim and parola == sifre):\n",
    "    print(\"Kullanıcı adınız hatalı\")\n",
    "elif (kullanici_adi == isim and parola != sifre):\n",
    "    print(\"Parolanız hatalı\")\n",
    "elif (kullanici_adi != isim and parola!= sifre):\n",
    "    print(\"Kullanıcı adınız ve parolanız hatalıdır.\")\n",
    "else:\n",
    "    print(\"Tebrikler, Başarıyla giriş yaptınız\")\n"
   ]
  },
  {
   "cell_type": "code",
   "execution_count": 5,
   "metadata": {},
   "outputs": [
    {
     "name": "stdout",
     "output_type": "stream",
     "text": [
      "Lütfen kullanıcı adınızı giriniz: Duygu\n",
      "Lütfen şifrenizi giriniz: Ball\n",
      "Tebrikler, Başarıyla giriş yaptınız\n"
     ]
    }
   ],
   "source": [
    "# Dictionary ile çözüm sağlayın. \n",
    "# Aynı örneğin sözlük kullanılarak gerçekleştirilen çözümü.\n",
    "\n",
    "bilgi={\"kisi\":[\"Duygu\", \"Ball\"]}\n",
    "\n",
    "isim =input(\"Lütfen kullanıcı adınızı giriniz: \")\n",
    "parola= input(\"Lütfen şifrenizi giriniz: \")\n",
    "\n",
    "if (isim != bilgi[\"kisi\"][0] and parola == bilgi[\"kisi\"][1]):\n",
    "    print(\"Kullanıcı adınız hatalı.\")\n",
    "elif (isim == bilgi[\"kisi\"][0] and parola != bilgi[\"kisi\"][1]):\n",
    "    print(\"Kullanıcı parolanız hatalı.\")\n",
    "elif (isim != bilgi[\"kisi\"][0] and parola != bilgi[\"kisi\"][1]):\n",
    "    print(\"Kullanıcı adınız ve parolanız hatalı.\")\n",
    "else:\n",
    "    print(\"Tebrikler, Başarıyla giriş yaptınız\")"
   ]
  }
 ],
 "metadata": {
  "kernelspec": {
   "display_name": "Python 3",
   "language": "python",
   "name": "python3"
  },
  "language_info": {
   "codemirror_mode": {
    "name": "ipython",
    "version": 3
   },
   "file_extension": ".py",
   "mimetype": "text/x-python",
   "name": "python",
   "nbconvert_exporter": "python",
   "pygments_lexer": "ipython3",
   "version": "3.8.5"
  }
 },
 "nbformat": 4,
 "nbformat_minor": 4
}
